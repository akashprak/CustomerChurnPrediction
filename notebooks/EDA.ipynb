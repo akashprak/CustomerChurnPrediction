{
 "cells": [
  {
   "cell_type": "code",
   "execution_count": 1,
   "id": "c7a114f9",
   "metadata": {},
   "outputs": [],
   "source": [
    "import pandas as pd\n",
    "import numpy as np\n",
    "import matplotlib.pyplot as plt\n",
    "import seaborn as sns"
   ]
  },
  {
   "cell_type": "code",
   "execution_count": null,
   "id": "9efb3e31",
   "metadata": {},
   "outputs": [],
   "source": [
    "df_dict = pd.read_excel(\"../raw_data/Customer_Churn_Data_Large.xlsx\", sheet_name=None)"
   ]
  },
  {
   "cell_type": "code",
   "execution_count": 3,
   "id": "550943ae",
   "metadata": {},
   "outputs": [
    {
     "data": {
      "text/plain": [
       "dict_keys(['Customer_Demographics', 'Transaction_History', 'Customer_Service', 'Online_Activity', 'Churn_Status'])"
      ]
     },
     "execution_count": 3,
     "metadata": {},
     "output_type": "execute_result"
    }
   ],
   "source": [
    "# listing names of sheets in the excel file\n",
    "df_dict.keys()"
   ]
  },
  {
   "cell_type": "code",
   "execution_count": 4,
   "id": "b9653391",
   "metadata": {},
   "outputs": [
    {
     "name": "stdout",
     "output_type": "stream",
     "text": [
      "key:  Customer_Demographics\n",
      "Columns:  ['CustomerID' 'Age' 'Gender' 'MaritalStatus' 'IncomeLevel'] \n",
      "\n",
      "key:  Transaction_History\n",
      "Columns:  ['CustomerID' 'TransactionID' 'TransactionDate' 'AmountSpent'\n",
      " 'ProductCategory'] \n",
      "\n",
      "key:  Customer_Service\n",
      "Columns:  ['CustomerID' 'InteractionID' 'InteractionDate' 'InteractionType'\n",
      " 'ResolutionStatus'] \n",
      "\n",
      "key:  Online_Activity\n",
      "Columns:  ['CustomerID' 'LastLoginDate' 'LoginFrequency' 'ServiceUsage'] \n",
      "\n",
      "key:  Churn_Status\n",
      "Columns:  ['CustomerID' 'ChurnStatus'] \n",
      "\n"
     ]
    }
   ],
   "source": [
    "# listing columns of dataframes\n",
    "for key, df in df_dict.items():\n",
    "    print(f\"key: \", key)\n",
    "    print(\"Columns: \", df.columns.values, \"\\n\")"
   ]
  },
  {
   "cell_type": "markdown",
   "id": "c637569d",
   "metadata": {},
   "source": [
    "### Data Selection Rationale\n",
    "On a quick look at the data, we can see that all the dataframes should be taken for model building since they all provide relevant information.  \n",
    "The relevant datasets are selected using domain knowledge, a quick thought on the kind of dataset will reveal a possible relation to the customer churn. The rationale is as following: \n",
    "\n",
    "- __Customer Demographics__ : The features such as MaritalStatus and IncomeLevel is too important to ignore since it is possible that the customer churn is influenced by a change in marital status or income level or even Age. \n",
    "- __Transaction History__ : The transaction dates, spending history could reveal a change in spending which might cause churning. Some customers may have left (or stayed) due to better offers or experiences.\n",
    "- __Customer Service__ : Frequent customer service interaction should affect the churning. The resolution status of the interaction might have a direct correlation with the churn status.\n",
    "- __Online activity__ : The frequency of online activity and a very old last login could indicate potential customer churn. "
   ]
  },
  {
   "cell_type": "markdown",
   "id": "721e8da5",
   "metadata": {},
   "source": [
    "#### Customer Demographics"
   ]
  },
  {
   "cell_type": "code",
   "execution_count": 88,
   "id": "81f27559",
   "metadata": {},
   "outputs": [
    {
     "data": {
      "text/html": [
       "<div>\n",
       "<style scoped>\n",
       "    .dataframe tbody tr th:only-of-type {\n",
       "        vertical-align: middle;\n",
       "    }\n",
       "\n",
       "    .dataframe tbody tr th {\n",
       "        vertical-align: top;\n",
       "    }\n",
       "\n",
       "    .dataframe thead th {\n",
       "        text-align: right;\n",
       "    }\n",
       "</style>\n",
       "<table border=\"1\" class=\"dataframe\">\n",
       "  <thead>\n",
       "    <tr style=\"text-align: right;\">\n",
       "      <th></th>\n",
       "      <th>CustomerID</th>\n",
       "      <th>Age</th>\n",
       "      <th>Gender</th>\n",
       "      <th>MaritalStatus</th>\n",
       "      <th>IncomeLevel</th>\n",
       "    </tr>\n",
       "  </thead>\n",
       "  <tbody>\n",
       "    <tr>\n",
       "      <th>0</th>\n",
       "      <td>1</td>\n",
       "      <td>62</td>\n",
       "      <td>M</td>\n",
       "      <td>Single</td>\n",
       "      <td>Low</td>\n",
       "    </tr>\n",
       "    <tr>\n",
       "      <th>1</th>\n",
       "      <td>2</td>\n",
       "      <td>65</td>\n",
       "      <td>M</td>\n",
       "      <td>Married</td>\n",
       "      <td>Low</td>\n",
       "    </tr>\n",
       "    <tr>\n",
       "      <th>2</th>\n",
       "      <td>3</td>\n",
       "      <td>18</td>\n",
       "      <td>M</td>\n",
       "      <td>Single</td>\n",
       "      <td>Low</td>\n",
       "    </tr>\n",
       "    <tr>\n",
       "      <th>3</th>\n",
       "      <td>4</td>\n",
       "      <td>21</td>\n",
       "      <td>M</td>\n",
       "      <td>Widowed</td>\n",
       "      <td>Low</td>\n",
       "    </tr>\n",
       "    <tr>\n",
       "      <th>4</th>\n",
       "      <td>5</td>\n",
       "      <td>21</td>\n",
       "      <td>M</td>\n",
       "      <td>Divorced</td>\n",
       "      <td>Medium</td>\n",
       "    </tr>\n",
       "  </tbody>\n",
       "</table>\n",
       "</div>"
      ],
      "text/plain": [
       "   CustomerID  Age Gender MaritalStatus IncomeLevel\n",
       "0           1   62      M        Single         Low\n",
       "1           2   65      M       Married         Low\n",
       "2           3   18      M        Single         Low\n",
       "3           4   21      M       Widowed         Low\n",
       "4           5   21      M      Divorced      Medium"
      ]
     },
     "execution_count": 88,
     "metadata": {},
     "output_type": "execute_result"
    }
   ],
   "source": [
    "df_demographics = df_dict['Customer_Demographics']\n",
    "df_demographics.head()"
   ]
  },
  {
   "cell_type": "code",
   "execution_count": 6,
   "id": "cd9af68e",
   "metadata": {},
   "outputs": [
    {
     "name": "stdout",
     "output_type": "stream",
     "text": [
      "<class 'pandas.core.frame.DataFrame'>\n",
      "RangeIndex: 1000 entries, 0 to 999\n",
      "Data columns (total 5 columns):\n",
      " #   Column         Non-Null Count  Dtype \n",
      "---  ------         --------------  ----- \n",
      " 0   CustomerID     1000 non-null   int64 \n",
      " 1   Age            1000 non-null   int64 \n",
      " 2   Gender         1000 non-null   object\n",
      " 3   MaritalStatus  1000 non-null   object\n",
      " 4   IncomeLevel    1000 non-null   object\n",
      "dtypes: int64(2), object(3)\n",
      "memory usage: 39.2+ KB\n"
     ]
    }
   ],
   "source": [
    "df_demographics.info()"
   ]
  },
  {
   "cell_type": "code",
   "execution_count": 8,
   "id": "b9ce471d",
   "metadata": {},
   "outputs": [
    {
     "data": {
      "text/html": [
       "<div>\n",
       "<style scoped>\n",
       "    .dataframe tbody tr th:only-of-type {\n",
       "        vertical-align: middle;\n",
       "    }\n",
       "\n",
       "    .dataframe tbody tr th {\n",
       "        vertical-align: top;\n",
       "    }\n",
       "\n",
       "    .dataframe thead th {\n",
       "        text-align: right;\n",
       "    }\n",
       "</style>\n",
       "<table border=\"1\" class=\"dataframe\">\n",
       "  <thead>\n",
       "    <tr style=\"text-align: right;\">\n",
       "      <th></th>\n",
       "      <th>count</th>\n",
       "      <th>unique</th>\n",
       "      <th>top</th>\n",
       "      <th>freq</th>\n",
       "      <th>mean</th>\n",
       "      <th>std</th>\n",
       "      <th>min</th>\n",
       "      <th>25%</th>\n",
       "      <th>50%</th>\n",
       "      <th>75%</th>\n",
       "      <th>max</th>\n",
       "    </tr>\n",
       "  </thead>\n",
       "  <tbody>\n",
       "    <tr>\n",
       "      <th>CustomerID</th>\n",
       "      <td>1000.0</td>\n",
       "      <td>NaN</td>\n",
       "      <td>NaN</td>\n",
       "      <td>NaN</td>\n",
       "      <td>500.5</td>\n",
       "      <td>288.819436</td>\n",
       "      <td>1.0</td>\n",
       "      <td>250.75</td>\n",
       "      <td>500.5</td>\n",
       "      <td>750.25</td>\n",
       "      <td>1000.0</td>\n",
       "    </tr>\n",
       "    <tr>\n",
       "      <th>Age</th>\n",
       "      <td>1000.0</td>\n",
       "      <td>NaN</td>\n",
       "      <td>NaN</td>\n",
       "      <td>NaN</td>\n",
       "      <td>43.267</td>\n",
       "      <td>15.242311</td>\n",
       "      <td>18.0</td>\n",
       "      <td>30.0</td>\n",
       "      <td>43.0</td>\n",
       "      <td>56.0</td>\n",
       "      <td>69.0</td>\n",
       "    </tr>\n",
       "    <tr>\n",
       "      <th>Gender</th>\n",
       "      <td>1000</td>\n",
       "      <td>2</td>\n",
       "      <td>F</td>\n",
       "      <td>513</td>\n",
       "      <td>NaN</td>\n",
       "      <td>NaN</td>\n",
       "      <td>NaN</td>\n",
       "      <td>NaN</td>\n",
       "      <td>NaN</td>\n",
       "      <td>NaN</td>\n",
       "      <td>NaN</td>\n",
       "    </tr>\n",
       "    <tr>\n",
       "      <th>MaritalStatus</th>\n",
       "      <td>1000</td>\n",
       "      <td>4</td>\n",
       "      <td>Widowed</td>\n",
       "      <td>276</td>\n",
       "      <td>NaN</td>\n",
       "      <td>NaN</td>\n",
       "      <td>NaN</td>\n",
       "      <td>NaN</td>\n",
       "      <td>NaN</td>\n",
       "      <td>NaN</td>\n",
       "      <td>NaN</td>\n",
       "    </tr>\n",
       "    <tr>\n",
       "      <th>IncomeLevel</th>\n",
       "      <td>1000</td>\n",
       "      <td>3</td>\n",
       "      <td>High</td>\n",
       "      <td>349</td>\n",
       "      <td>NaN</td>\n",
       "      <td>NaN</td>\n",
       "      <td>NaN</td>\n",
       "      <td>NaN</td>\n",
       "      <td>NaN</td>\n",
       "      <td>NaN</td>\n",
       "      <td>NaN</td>\n",
       "    </tr>\n",
       "  </tbody>\n",
       "</table>\n",
       "</div>"
      ],
      "text/plain": [
       "                count unique      top freq    mean         std   min     25%  \\\n",
       "CustomerID     1000.0    NaN      NaN  NaN   500.5  288.819436   1.0  250.75   \n",
       "Age            1000.0    NaN      NaN  NaN  43.267   15.242311  18.0    30.0   \n",
       "Gender           1000      2        F  513     NaN         NaN   NaN     NaN   \n",
       "MaritalStatus    1000      4  Widowed  276     NaN         NaN   NaN     NaN   \n",
       "IncomeLevel      1000      3     High  349     NaN         NaN   NaN     NaN   \n",
       "\n",
       "                 50%     75%     max  \n",
       "CustomerID     500.5  750.25  1000.0  \n",
       "Age             43.0    56.0    69.0  \n",
       "Gender           NaN     NaN     NaN  \n",
       "MaritalStatus    NaN     NaN     NaN  \n",
       "IncomeLevel      NaN     NaN     NaN  "
      ]
     },
     "execution_count": 8,
     "metadata": {},
     "output_type": "execute_result"
    }
   ],
   "source": [
    "# descriptive statistics of the dataset\n",
    "df_demographics.describe(include='all').T"
   ]
  },
  {
   "cell_type": "markdown",
   "id": "45aef196",
   "metadata": {},
   "source": [
    "The descriptive statistics of the dataset shows a well balanced demographics data.  \n",
    "- __Gender__ : Males and Females are equally distributed\n",
    "- __Age__ : Mean age is 43, and the customer base ranges from age 18 to 69.\n",
    "- __Marital status__ : There are 4 unique values, and the statistics suggest it is roughly equally distributed.\n",
    "- __Income level__  : Three unique levels for this feature, and equally distributed."
   ]
  },
  {
   "cell_type": "code",
   "execution_count": null,
   "id": "491950ac",
   "metadata": {},
   "outputs": [
    {
     "data": {
      "text/plain": [
       "(1000, np.int64(1000))"
      ]
     },
     "execution_count": 12,
     "metadata": {},
     "output_type": "execute_result"
    }
   ],
   "source": [
    "df_demographics[\"CustomerID\"].nunique(), df_demographics[\"CustomerID\"].count()\n",
    "# checking for duplicates\n",
    "# there are no duplicates in the dataset"
   ]
  },
  {
   "cell_type": "code",
   "execution_count": 16,
   "id": "814cda8d",
   "metadata": {},
   "outputs": [
    {
     "data": {
      "text/plain": [
       "CustomerID       0\n",
       "Age              0\n",
       "Gender           0\n",
       "MaritalStatus    0\n",
       "IncomeLevel      0\n",
       "dtype: int64"
      ]
     },
     "execution_count": 16,
     "metadata": {},
     "output_type": "execute_result"
    }
   ],
   "source": [
    "# checking for missing values\n",
    "df_demographics.isna().sum()"
   ]
  },
  {
   "cell_type": "code",
   "execution_count": 45,
   "id": "c9ed628d",
   "metadata": {},
   "outputs": [],
   "source": [
    "plt.rc('figure', figsize=(10,5))\n",
    "sns.set_theme(style='darkgrid')\n",
    "sns.set_palette('plasma')"
   ]
  },
  {
   "cell_type": "code",
   "execution_count": 46,
   "id": "88e2cdca",
   "metadata": {},
   "outputs": [
    {
     "data": {
      "text/plain": [
       "<Axes: xlabel='Age', ylabel='Count'>"
      ]
     },
     "execution_count": 46,
     "metadata": {},
     "output_type": "execute_result"
    },
    {
     "data": {
      "image/png": "[encoded data removed]",
      "text/plain": [
       "<Figure size 1000x500 with 1 Axes>"
      ]
     },
     "metadata": {},
     "output_type": "display_data"
    }
   ],
   "source": [
    "# plotting Age column\n",
    "sns.histplot(df_demographics['Age'], binwidth=5, kde=True)"
   ]
  },
  {
   "cell_type": "markdown",
   "id": "07ec76ac",
   "metadata": {},
   "source": [
    "The spread of the Age column is uniform, the customer base is uniformly distributed across all age groups."
   ]
  },
  {
   "cell_type": "code",
   "execution_count": 50,
   "id": "a6095524",
   "metadata": {},
   "outputs": [
    {
     "data": {
      "text/plain": [
       "<Axes: xlabel='Gender', ylabel='count'>"
      ]
     },
     "execution_count": 50,
     "metadata": {},
     "output_type": "execute_result"
    },
    {
     "data": {
      "image/png": "[encoded data removed]",
      "text/plain": [
       "<Figure size 1000x500 with 1 Axes>"
      ]
     },
     "metadata": {},
     "output_type": "display_data"
    }
   ],
   "source": [
    "sns.countplot(df_demographics, x=\"Gender\")"
   ]
  },
  {
   "cell_type": "code",
   "execution_count": 51,
   "id": "fb19ef4e",
   "metadata": {},
   "outputs": [
    {
     "data": {
      "text/plain": [
       "<Axes: xlabel='MaritalStatus', ylabel='count'>"
      ]
     },
     "execution_count": 51,
     "metadata": {},
     "output_type": "execute_result"
    },
    {
     "data": {
      "image/png": "[encoded data removed]",
      "text/plain": [
       "<Figure size 1000x500 with 1 Axes>"
      ]
     },
     "metadata": {},
     "output_type": "display_data"
    }
   ],
   "source": [
    "sns.countplot(df_demographics, x='MaritalStatus')"
   ]
  },
  {
   "cell_type": "code",
   "execution_count": 52,
   "id": "983a101f",
   "metadata": {},
   "outputs": [
    {
     "data": {
      "text/plain": [
       "<Axes: xlabel='IncomeLevel', ylabel='count'>"
      ]
     },
     "execution_count": 52,
     "metadata": {},
     "output_type": "execute_result"
    },
    {
     "data": {
      "image/png": "[encoded data removed]",
      "text/plain": [
       "<Figure size 1000x500 with 1 Axes>"
      ]
     },
     "metadata": {},
     "output_type": "display_data"
    }
   ],
   "source": [
    "sns.countplot(df_demographics, x='IncomeLevel')"
   ]
  },
  {
   "cell_type": "code",
   "execution_count": null,
   "id": "3d9070ef",
   "metadata": {},
   "outputs": [
    {
     "data": {
      "text/plain": [
       "<Axes: xlabel='IncomeLevel', ylabel='Age'>"
      ]
     },
     "execution_count": 63,
     "metadata": {},
     "output_type": "execute_result"
    },
    {
     "data": {
      "image/png": "[encoded data removed]",
      "text/plain": [
       "<Figure size 1000x500 with 1 Axes>"
      ]
     },
     "metadata": {},
     "output_type": "display_data"
    }
   ],
   "source": [
    "sns.barplot(df_demographics, x='IncomeLevel', y='Age', hue='MaritalStatus', estimator='median')\n",
    "# this plot shows the median age of customers in each income level and marital status"
   ]
  },
  {
   "cell_type": "markdown",
   "id": "329c15c9",
   "metadata": {},
   "source": [
    "The data is equally distributed across categories."
   ]
  },
  {
   "cell_type": "code",
   "execution_count": null,
   "id": "88884101",
   "metadata": {},
   "outputs": [
    {
     "data": {
      "text/html": [
       "<div>\n",
       "<style scoped>\n",
       "    .dataframe tbody tr th:only-of-type {\n",
       "        vertical-align: middle;\n",
       "    }\n",
       "\n",
       "    .dataframe tbody tr th {\n",
       "        vertical-align: top;\n",
       "    }\n",
       "\n",
       "    .dataframe thead th {\n",
       "        text-align: right;\n",
       "    }\n",
       "</style>\n",
       "<table border=\"1\" class=\"dataframe\">\n",
       "  <thead>\n",
       "    <tr style=\"text-align: right;\">\n",
       "      <th></th>\n",
       "      <th>CustomerID</th>\n",
       "      <th>Age</th>\n",
       "      <th>Gender</th>\n",
       "      <th>IncomeLevel</th>\n",
       "      <th>MaritalStatus_Married</th>\n",
       "      <th>MaritalStatus_Single</th>\n",
       "      <th>MaritalStatus_Widowed</th>\n",
       "    </tr>\n",
       "  </thead>\n",
       "  <tbody>\n",
       "    <tr>\n",
       "      <th>0</th>\n",
       "      <td>1</td>\n",
       "      <td>62</td>\n",
       "      <td>M</td>\n",
       "      <td>Low</td>\n",
       "      <td>0</td>\n",
       "      <td>1</td>\n",
       "      <td>0</td>\n",
       "    </tr>\n",
       "    <tr>\n",
       "      <th>1</th>\n",
       "      <td>2</td>\n",
       "      <td>65</td>\n",
       "      <td>M</td>\n",
       "      <td>Low</td>\n",
       "      <td>1</td>\n",
       "      <td>0</td>\n",
       "      <td>0</td>\n",
       "    </tr>\n",
       "    <tr>\n",
       "      <th>2</th>\n",
       "      <td>3</td>\n",
       "      <td>18</td>\n",
       "      <td>M</td>\n",
       "      <td>Low</td>\n",
       "      <td>0</td>\n",
       "      <td>1</td>\n",
       "      <td>0</td>\n",
       "    </tr>\n",
       "    <tr>\n",
       "      <th>3</th>\n",
       "      <td>4</td>\n",
       "      <td>21</td>\n",
       "      <td>M</td>\n",
       "      <td>Low</td>\n",
       "      <td>0</td>\n",
       "      <td>0</td>\n",
       "      <td>1</td>\n",
       "    </tr>\n",
       "    <tr>\n",
       "      <th>4</th>\n",
       "      <td>5</td>\n",
       "      <td>21</td>\n",
       "      <td>M</td>\n",
       "      <td>Medium</td>\n",
       "      <td>0</td>\n",
       "      <td>0</td>\n",
       "      <td>0</td>\n",
       "    </tr>\n",
       "  </tbody>\n",
       "</table>\n",
       "</div>"
      ],
      "text/plain": [
       "   CustomerID  Age Gender IncomeLevel  MaritalStatus_Married  \\\n",
       "0           1   62      M         Low                      0   \n",
       "1           2   65      M         Low                      1   \n",
       "2           3   18      M         Low                      0   \n",
       "3           4   21      M         Low                      0   \n",
       "4           5   21      M      Medium                      0   \n",
       "\n",
       "   MaritalStatus_Single  MaritalStatus_Widowed  \n",
       "0                     1                      0  \n",
       "1                     0                      0  \n",
       "2                     1                      0  \n",
       "3                     0                      1  \n",
       "4                     0                      0  "
      ]
     },
     "execution_count": 89,
     "metadata": {},
     "output_type": "execute_result"
    }
   ],
   "source": [
    "# converting categorical variable MaritalStatus to numerical through one-hot encoding\n",
    "df_demographics = pd.concat([df_demographics.drop(columns=['MaritalStatus']), pd.get_dummies(df_demographics[['MaritalStatus']], drop_first=True, dtype=int)],axis=1)\n",
    "df_demographics.head()"
   ]
  },
  {
   "cell_type": "code",
   "execution_count": 90,
   "id": "1e1725a1",
   "metadata": {},
   "outputs": [
    {
     "data": {
      "text/html": [
       "<div>\n",
       "<style scoped>\n",
       "    .dataframe tbody tr th:only-of-type {\n",
       "        vertical-align: middle;\n",
       "    }\n",
       "\n",
       "    .dataframe tbody tr th {\n",
       "        vertical-align: top;\n",
       "    }\n",
       "\n",
       "    .dataframe thead th {\n",
       "        text-align: right;\n",
       "    }\n",
       "</style>\n",
       "<table border=\"1\" class=\"dataframe\">\n",
       "  <thead>\n",
       "    <tr style=\"text-align: right;\">\n",
       "      <th></th>\n",
       "      <th>CustomerID</th>\n",
       "      <th>Age</th>\n",
       "      <th>IncomeLevel</th>\n",
       "      <th>MaritalStatus_Married</th>\n",
       "      <th>MaritalStatus_Single</th>\n",
       "      <th>MaritalStatus_Widowed</th>\n",
       "      <th>Gender_M</th>\n",
       "    </tr>\n",
       "  </thead>\n",
       "  <tbody>\n",
       "    <tr>\n",
       "      <th>0</th>\n",
       "      <td>1</td>\n",
       "      <td>62</td>\n",
       "      <td>Low</td>\n",
       "      <td>0</td>\n",
       "      <td>1</td>\n",
       "      <td>0</td>\n",
       "      <td>1</td>\n",
       "    </tr>\n",
       "    <tr>\n",
       "      <th>1</th>\n",
       "      <td>2</td>\n",
       "      <td>65</td>\n",
       "      <td>Low</td>\n",
       "      <td>1</td>\n",
       "      <td>0</td>\n",
       "      <td>0</td>\n",
       "      <td>1</td>\n",
       "    </tr>\n",
       "    <tr>\n",
       "      <th>2</th>\n",
       "      <td>3</td>\n",
       "      <td>18</td>\n",
       "      <td>Low</td>\n",
       "      <td>0</td>\n",
       "      <td>1</td>\n",
       "      <td>0</td>\n",
       "      <td>1</td>\n",
       "    </tr>\n",
       "    <tr>\n",
       "      <th>3</th>\n",
       "      <td>4</td>\n",
       "      <td>21</td>\n",
       "      <td>Low</td>\n",
       "      <td>0</td>\n",
       "      <td>0</td>\n",
       "      <td>1</td>\n",
       "      <td>1</td>\n",
       "    </tr>\n",
       "    <tr>\n",
       "      <th>4</th>\n",
       "      <td>5</td>\n",
       "      <td>21</td>\n",
       "      <td>Medium</td>\n",
       "      <td>0</td>\n",
       "      <td>0</td>\n",
       "      <td>0</td>\n",
       "      <td>1</td>\n",
       "    </tr>\n",
       "  </tbody>\n",
       "</table>\n",
       "</div>"
      ],
      "text/plain": [
       "   CustomerID  Age IncomeLevel  MaritalStatus_Married  MaritalStatus_Single  \\\n",
       "0           1   62         Low                      0                     1   \n",
       "1           2   65         Low                      1                     0   \n",
       "2           3   18         Low                      0                     1   \n",
       "3           4   21         Low                      0                     0   \n",
       "4           5   21      Medium                      0                     0   \n",
       "\n",
       "   MaritalStatus_Widowed  Gender_M  \n",
       "0                      0         1  \n",
       "1                      0         1  \n",
       "2                      0         1  \n",
       "3                      1         1  \n",
       "4                      0         1  "
      ]
     },
     "execution_count": 90,
     "metadata": {},
     "output_type": "execute_result"
    }
   ],
   "source": [
    "df_demographics = pd.concat([df_demographics.drop(columns=['Gender']), pd.get_dummies(df_demographics[['Gender']], drop_first=True, dtype=int)], axis=1)\n",
    "df_demographics.head()"
   ]
  },
  {
   "cell_type": "code",
   "execution_count": 97,
   "id": "1382b0dc",
   "metadata": {},
   "outputs": [
    {
     "data": {
      "text/html": [
       "<div>\n",
       "<style scoped>\n",
       "    .dataframe tbody tr th:only-of-type {\n",
       "        vertical-align: middle;\n",
       "    }\n",
       "\n",
       "    .dataframe tbody tr th {\n",
       "        vertical-align: top;\n",
       "    }\n",
       "\n",
       "    .dataframe thead th {\n",
       "        text-align: right;\n",
       "    }\n",
       "</style>\n",
       "<table border=\"1\" class=\"dataframe\">\n",
       "  <thead>\n",
       "    <tr style=\"text-align: right;\">\n",
       "      <th></th>\n",
       "      <th>CustomerID</th>\n",
       "      <th>Age</th>\n",
       "      <th>IncomeLevel</th>\n",
       "      <th>MaritalStatus_Married</th>\n",
       "      <th>MaritalStatus_Single</th>\n",
       "      <th>MaritalStatus_Widowed</th>\n",
       "      <th>Gender_M</th>\n",
       "    </tr>\n",
       "  </thead>\n",
       "  <tbody>\n",
       "    <tr>\n",
       "      <th>0</th>\n",
       "      <td>1</td>\n",
       "      <td>62</td>\n",
       "      <td>0</td>\n",
       "      <td>0</td>\n",
       "      <td>1</td>\n",
       "      <td>0</td>\n",
       "      <td>1</td>\n",
       "    </tr>\n",
       "    <tr>\n",
       "      <th>1</th>\n",
       "      <td>2</td>\n",
       "      <td>65</td>\n",
       "      <td>0</td>\n",
       "      <td>1</td>\n",
       "      <td>0</td>\n",
       "      <td>0</td>\n",
       "      <td>1</td>\n",
       "    </tr>\n",
       "    <tr>\n",
       "      <th>2</th>\n",
       "      <td>3</td>\n",
       "      <td>18</td>\n",
       "      <td>0</td>\n",
       "      <td>0</td>\n",
       "      <td>1</td>\n",
       "      <td>0</td>\n",
       "      <td>1</td>\n",
       "    </tr>\n",
       "    <tr>\n",
       "      <th>3</th>\n",
       "      <td>4</td>\n",
       "      <td>21</td>\n",
       "      <td>0</td>\n",
       "      <td>0</td>\n",
       "      <td>0</td>\n",
       "      <td>1</td>\n",
       "      <td>1</td>\n",
       "    </tr>\n",
       "    <tr>\n",
       "      <th>4</th>\n",
       "      <td>5</td>\n",
       "      <td>21</td>\n",
       "      <td>1</td>\n",
       "      <td>0</td>\n",
       "      <td>0</td>\n",
       "      <td>0</td>\n",
       "      <td>1</td>\n",
       "    </tr>\n",
       "  </tbody>\n",
       "</table>\n",
       "</div>"
      ],
      "text/plain": [
       "   CustomerID  Age  IncomeLevel  MaritalStatus_Married  MaritalStatus_Single  \\\n",
       "0           1   62            0                      0                     1   \n",
       "1           2   65            0                      1                     0   \n",
       "2           3   18            0                      0                     1   \n",
       "3           4   21            0                      0                     0   \n",
       "4           5   21            1                      0                     0   \n",
       "\n",
       "   MaritalStatus_Widowed  Gender_M  \n",
       "0                      0         1  \n",
       "1                      0         1  \n",
       "2                      0         1  \n",
       "3                      1         1  \n",
       "4                      0         1  "
      ]
     },
     "execution_count": 97,
     "metadata": {},
     "output_type": "execute_result"
    }
   ],
   "source": [
    "df_demographics['IncomeLevel'] = df_demographics['IncomeLevel'].map({'Low': 0, 'Medium': 1, 'High': 2})\n",
    "df_demographics.head()"
   ]
  },
  {
   "cell_type": "markdown",
   "id": "5fdd7998",
   "metadata": {},
   "source": [
    "All categorical features has been converted to numerical values."
   ]
  },
  {
   "cell_type": "code",
   "execution_count": null,
   "id": "323342df",
   "metadata": {},
   "outputs": [],
   "source": [
    "df_demographics.to_csv(\"../processed_data/Customer_Demographics.csv\", index=False)"
   ]
  },
  {
   "cell_type": "markdown",
   "id": "078a454d",
   "metadata": {},
   "source": [
    "#### Transaction History"
   ]
  },
  {
   "cell_type": "code",
   "execution_count": 64,
   "id": "21c038e8",
   "metadata": {},
   "outputs": [
    {
     "data": {
      "text/html": [
       "<div>\n",
       "<style scoped>\n",
       "    .dataframe tbody tr th:only-of-type {\n",
       "        vertical-align: middle;\n",
       "    }\n",
       "\n",
       "    .dataframe tbody tr th {\n",
       "        vertical-align: top;\n",
       "    }\n",
       "\n",
       "    .dataframe thead th {\n",
       "        text-align: right;\n",
       "    }\n",
       "</style>\n",
       "<table border=\"1\" class=\"dataframe\">\n",
       "  <thead>\n",
       "    <tr style=\"text-align: right;\">\n",
       "      <th></th>\n",
       "      <th>CustomerID</th>\n",
       "      <th>TransactionID</th>\n",
       "      <th>TransactionDate</th>\n",
       "      <th>AmountSpent</th>\n",
       "      <th>ProductCategory</th>\n",
       "    </tr>\n",
       "  </thead>\n",
       "  <tbody>\n",
       "    <tr>\n",
       "      <th>0</th>\n",
       "      <td>1</td>\n",
       "      <td>7194</td>\n",
       "      <td>2022-03-27</td>\n",
       "      <td>416.50</td>\n",
       "      <td>Electronics</td>\n",
       "    </tr>\n",
       "    <tr>\n",
       "      <th>1</th>\n",
       "      <td>2</td>\n",
       "      <td>7250</td>\n",
       "      <td>2022-08-08</td>\n",
       "      <td>54.96</td>\n",
       "      <td>Clothing</td>\n",
       "    </tr>\n",
       "    <tr>\n",
       "      <th>2</th>\n",
       "      <td>2</td>\n",
       "      <td>9660</td>\n",
       "      <td>2022-07-25</td>\n",
       "      <td>197.50</td>\n",
       "      <td>Electronics</td>\n",
       "    </tr>\n",
       "    <tr>\n",
       "      <th>3</th>\n",
       "      <td>2</td>\n",
       "      <td>2998</td>\n",
       "      <td>2022-01-25</td>\n",
       "      <td>101.31</td>\n",
       "      <td>Furniture</td>\n",
       "    </tr>\n",
       "    <tr>\n",
       "      <th>4</th>\n",
       "      <td>2</td>\n",
       "      <td>1228</td>\n",
       "      <td>2022-07-24</td>\n",
       "      <td>397.37</td>\n",
       "      <td>Clothing</td>\n",
       "    </tr>\n",
       "  </tbody>\n",
       "</table>\n",
       "</div>"
      ],
      "text/plain": [
       "   CustomerID  TransactionID TransactionDate  AmountSpent ProductCategory\n",
       "0           1           7194      2022-03-27       416.50     Electronics\n",
       "1           2           7250      2022-08-08        54.96        Clothing\n",
       "2           2           9660      2022-07-25       197.50     Electronics\n",
       "3           2           2998      2022-01-25       101.31       Furniture\n",
       "4           2           1228      2022-07-24       397.37        Clothing"
      ]
     },
     "execution_count": 64,
     "metadata": {},
     "output_type": "execute_result"
    }
   ],
   "source": [
    "df_transaction_history = df_dict['Transaction_History']\n",
    "df_transaction_history.head()"
   ]
  },
  {
   "cell_type": "code",
   "execution_count": 65,
   "id": "7f335b6b",
   "metadata": {},
   "outputs": [
    {
     "name": "stdout",
     "output_type": "stream",
     "text": [
      "<class 'pandas.core.frame.DataFrame'>\n",
      "RangeIndex: 5054 entries, 0 to 5053\n",
      "Data columns (total 5 columns):\n",
      " #   Column           Non-Null Count  Dtype         \n",
      "---  ------           --------------  -----         \n",
      " 0   CustomerID       5054 non-null   int64         \n",
      " 1   TransactionID    5054 non-null   int64         \n",
      " 2   TransactionDate  5054 non-null   datetime64[ns]\n",
      " 3   AmountSpent      5054 non-null   float64       \n",
      " 4   ProductCategory  5054 non-null   object        \n",
      "dtypes: datetime64[ns](1), float64(1), int64(2), object(1)\n",
      "memory usage: 197.6+ KB\n"
     ]
    }
   ],
   "source": [
    "df_transaction_history.info()"
   ]
  },
  {
   "cell_type": "markdown",
   "id": "89fb5dc6",
   "metadata": {},
   "source": [
    "The dataset is clean without any null values.  \n",
    "There are multiple transaction histories for a given customer, so feature engineering is required to aggregate multiple histories and create relevant features."
   ]
  },
  {
   "cell_type": "code",
   "execution_count": 69,
   "id": "220d5ede",
   "metadata": {},
   "outputs": [
    {
     "data": {
      "text/plain": [
       "np.int64(0)"
      ]
     },
     "execution_count": 69,
     "metadata": {},
     "output_type": "execute_result"
    }
   ],
   "source": [
    "df_transaction_history.duplicated().sum()\n",
    "# checking for duplicates\n",
    "# there are no duplicates in the dataset"
   ]
  },
  {
   "cell_type": "code",
   "execution_count": 71,
   "id": "c3434068",
   "metadata": {},
   "outputs": [
    {
     "data": {
      "text/plain": [
       "(3864, np.int64(5054))"
      ]
     },
     "execution_count": 71,
     "metadata": {},
     "output_type": "execute_result"
    }
   ],
   "source": [
    "df_transaction_history['TransactionID'].unique().shape[0], df_transaction_history['TransactionID'].count()\n",
    "# checking for unique values in the TransactionID column"
   ]
  },
  {
   "cell_type": "code",
   "execution_count": null,
   "id": "ba8f24c8",
   "metadata": {},
   "outputs": [],
   "source": []
  }
 ],
 "metadata": {
  "kernelspec": {
   "display_name": "pythimoon",
   "language": "python",
   "name": "python3"
  },
  "language_info": {
   "codemirror_mode": {
    "name": "ipython",
    "version": 3
   },
   "file_extension": ".py",
   "mimetype": "text/x-python",
   "name": "python",
   "nbconvert_exporter": "python",
   "pygments_lexer": "ipython3",
   "version": "3.13.1"
  }
 },
 "nbformat": 4,
 "nbformat_minor": 5
}
