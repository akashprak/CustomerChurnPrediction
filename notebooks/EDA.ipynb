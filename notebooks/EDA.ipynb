{
 "cells": [
  {
   "cell_type": "code",
   "execution_count": 1,
   "id": "c7a114f9",
   "metadata": {},
   "outputs": [],
   "source": [
    "import pandas as pd\n",
    "import numpy as np\n",
    "import matplotlib.pyplot as plt\n",
    "import seaborn as sns"
   ]
  },
  {
   "cell_type": "code",
   "execution_count": 2,
   "id": "c9ed628d",
   "metadata": {},
   "outputs": [],
   "source": [
    "plt.rc('figure', figsize=(10,5))\n",
    "sns.set_theme(style='darkgrid')\n",
    "sns.set_palette('plasma')"
   ]
  },
  {
   "cell_type": "code",
   "execution_count": 3,
   "id": "9efb3e31",
   "metadata": {},
   "outputs": [],
   "source": [
    "df_dict = pd.read_excel(\"../raw_data/Customer_Churn_Data_Large.xlsx\", sheet_name=None)"
   ]
  },
  {
   "cell_type": "code",
   "execution_count": 3,
   "id": "550943ae",
   "metadata": {},
   "outputs": [
    {
     "data": {
      "text/plain": [
       "dict_keys(['Customer_Demographics', 'Transaction_History', 'Customer_Service', 'Online_Activity', 'Churn_Status'])"
      ]
     },
     "execution_count": 3,
     "metadata": {},
     "output_type": "execute_result"
    }
   ],
   "source": [
    "# listing names of sheets in the excel file\n",
    "df_dict.keys()"
   ]
  },
  {
   "cell_type": "code",
   "execution_count": 4,
   "id": "b9653391",
   "metadata": {},
   "outputs": [
    {
     "name": "stdout",
     "output_type": "stream",
     "text": [
      "key:  Customer_Demographics\n",
      "Columns:  ['CustomerID' 'Age' 'Gender' 'MaritalStatus' 'IncomeLevel'] \n",
      "\n",
      "key:  Transaction_History\n",
      "Columns:  ['CustomerID' 'TransactionID' 'TransactionDate' 'AmountSpent'\n",
      " 'ProductCategory'] \n",
      "\n",
      "key:  Customer_Service\n",
      "Columns:  ['CustomerID' 'InteractionID' 'InteractionDate' 'InteractionType'\n",
      " 'ResolutionStatus'] \n",
      "\n",
      "key:  Online_Activity\n",
      "Columns:  ['CustomerID' 'LastLoginDate' 'LoginFrequency' 'ServiceUsage'] \n",
      "\n",
      "key:  Churn_Status\n",
      "Columns:  ['CustomerID' 'ChurnStatus'] \n",
      "\n"
     ]
    }
   ],
   "source": [
    "# listing columns of dataframes\n",
    "for key, df in df_dict.items():\n",
    "    print(f\"key: \", key)\n",
    "    print(\"Columns: \", df.columns.values, \"\\n\")"
   ]
  },
  {
   "cell_type": "markdown",
   "id": "c637569d",
   "metadata": {},
   "source": [
    "### Data Selection Rationale\n",
    "On a quick look at the data, we can see that all the dataframes should be taken for model building since they all provide relevant information.  \n",
    "The relevant datasets are selected using domain knowledge, a quick thought on the kind of dataset will reveal a possible relation to the customer churn. The rationale is as following: \n",
    "\n",
    "- __Customer Demographics__ : The features such as MaritalStatus and IncomeLevel is too important to ignore since it is possible that the customer churn is influenced by a change in marital status or income level or even Age. \n",
    "- __Transaction History__ : The transaction dates, spending history could reveal a change in spending which might cause churning. Some customers may have left (or stayed) due to better offers or experiences.\n",
    "- __Customer Service__ : Frequent customer service interaction should affect the churning. The resolution status of the interaction might have a direct correlation with the churn status.\n",
    "- __Online activity__ : The frequency of online activity and a very old last login could indicate potential customer churn. "
   ]
  },
  {
   "cell_type": "markdown",
   "id": "6896979b",
   "metadata": {},
   "source": [
    "#### Customer Churn"
   ]
  },
  {
   "cell_type": "code",
   "execution_count": 4,
   "id": "e7095506",
   "metadata": {},
   "outputs": [
    {
     "data": {
      "text/html": [
       "<div>\n",
       "<style scoped>\n",
       "    .dataframe tbody tr th:only-of-type {\n",
       "        vertical-align: middle;\n",
       "    }\n",
       "\n",
       "    .dataframe tbody tr th {\n",
       "        vertical-align: top;\n",
       "    }\n",
       "\n",
       "    .dataframe thead th {\n",
       "        text-align: right;\n",
       "    }\n",
       "</style>\n",
       "<table border=\"1\" class=\"dataframe\">\n",
       "  <thead>\n",
       "    <tr style=\"text-align: right;\">\n",
       "      <th></th>\n",
       "      <th>CustomerID</th>\n",
       "      <th>ChurnStatus</th>\n",
       "    </tr>\n",
       "  </thead>\n",
       "  <tbody>\n",
       "    <tr>\n",
       "      <th>0</th>\n",
       "      <td>1</td>\n",
       "      <td>0</td>\n",
       "    </tr>\n",
       "    <tr>\n",
       "      <th>1</th>\n",
       "      <td>2</td>\n",
       "      <td>1</td>\n",
       "    </tr>\n",
       "    <tr>\n",
       "      <th>2</th>\n",
       "      <td>3</td>\n",
       "      <td>0</td>\n",
       "    </tr>\n",
       "    <tr>\n",
       "      <th>3</th>\n",
       "      <td>4</td>\n",
       "      <td>0</td>\n",
       "    </tr>\n",
       "    <tr>\n",
       "      <th>4</th>\n",
       "      <td>5</td>\n",
       "      <td>0</td>\n",
       "    </tr>\n",
       "  </tbody>\n",
       "</table>\n",
       "</div>"
      ],
      "text/plain": [
       "   CustomerID  ChurnStatus\n",
       "0           1            0\n",
       "1           2            1\n",
       "2           3            0\n",
       "3           4            0\n",
       "4           5            0"
      ]
     },
     "execution_count": 4,
     "metadata": {},
     "output_type": "execute_result"
    }
   ],
   "source": [
    "target_df = df_dict['Churn_Status']\n",
    "target_df.head()"
   ]
  },
  {
   "cell_type": "code",
   "execution_count": 5,
   "id": "ea885bf4",
   "metadata": {},
   "outputs": [
    {
     "name": "stdout",
     "output_type": "stream",
     "text": [
      "<class 'pandas.core.frame.DataFrame'>\n",
      "RangeIndex: 1000 entries, 0 to 999\n",
      "Data columns (total 2 columns):\n",
      " #   Column       Non-Null Count  Dtype\n",
      "---  ------       --------------  -----\n",
      " 0   CustomerID   1000 non-null   int64\n",
      " 1   ChurnStatus  1000 non-null   int64\n",
      "dtypes: int64(2)\n",
      "memory usage: 15.8 KB\n"
     ]
    }
   ],
   "source": [
    "target_df.info()"
   ]
  },
  {
   "cell_type": "markdown",
   "id": "78db9b26",
   "metadata": {},
   "source": [
    "No null values in the target variable"
   ]
  },
  {
   "cell_type": "code",
   "execution_count": 6,
   "id": "f5719d42",
   "metadata": {},
   "outputs": [
    {
     "data": {
      "text/plain": [
       "ChurnStatus\n",
       "0    796\n",
       "1    204\n",
       "Name: count, dtype: int64"
      ]
     },
     "execution_count": 6,
     "metadata": {},
     "output_type": "execute_result"
    }
   ],
   "source": [
    "target_df['ChurnStatus'].value_counts()\n",
    "# 0 = No Churn, 1 = Churn"
   ]
  }
 ],
 "metadata": {
  "kernelspec": {
   "display_name": "pythimoon",
   "language": "python",
   "name": "python3"
  },
  "language_info": {
   "codemirror_mode": {
    "name": "ipython",
    "version": 3
   },
   "file_extension": ".py",
   "mimetype": "text/x-python",
   "name": "python",
   "nbconvert_exporter": "python",
   "pygments_lexer": "ipython3",
   "version": "3.13.1"
  }
 },
 "nbformat": 4,
 "nbformat_minor": 5
}
