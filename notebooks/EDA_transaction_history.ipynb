{
 "cells": [
  {
   "cell_type": "code",
   "execution_count": 1,
   "id": "7b6c858d",
   "metadata": {},
   "outputs": [],
   "source": [
    "import pandas as pd\n",
    "import numpy as np\n",
    "import matplotlib.pyplot as plt\n",
    "import seaborn as sns"
   ]
  },
  {
   "cell_type": "code",
   "execution_count": 2,
   "id": "bbc9a000",
   "metadata": {},
   "outputs": [],
   "source": [
    "plt.rc('figure', figsize=(10,5))\n",
    "sns.set_theme(style='darkgrid')\n",
    "sns.set_palette('plasma')"
   ]
  },
  {
   "cell_type": "code",
   "execution_count": 3,
   "id": "34e88375",
   "metadata": {},
   "outputs": [
    {
     "data": {
      "text/html": [
       "<div>\n",
       "<style scoped>\n",
       "    .dataframe tbody tr th:only-of-type {\n",
       "        vertical-align: middle;\n",
       "    }\n",
       "\n",
       "    .dataframe tbody tr th {\n",
       "        vertical-align: top;\n",
       "    }\n",
       "\n",
       "    .dataframe thead th {\n",
       "        text-align: right;\n",
       "    }\n",
       "</style>\n",
       "<table border=\"1\" class=\"dataframe\">\n",
       "  <thead>\n",
       "    <tr style=\"text-align: right;\">\n",
       "      <th></th>\n",
       "      <th>CustomerID</th>\n",
       "      <th>TransactionID</th>\n",
       "      <th>TransactionDate</th>\n",
       "      <th>AmountSpent</th>\n",
       "      <th>ProductCategory</th>\n",
       "    </tr>\n",
       "  </thead>\n",
       "  <tbody>\n",
       "    <tr>\n",
       "      <th>0</th>\n",
       "      <td>1</td>\n",
       "      <td>7194</td>\n",
       "      <td>2022-03-27</td>\n",
       "      <td>416.50</td>\n",
       "      <td>Electronics</td>\n",
       "    </tr>\n",
       "    <tr>\n",
       "      <th>1</th>\n",
       "      <td>2</td>\n",
       "      <td>7250</td>\n",
       "      <td>2022-08-08</td>\n",
       "      <td>54.96</td>\n",
       "      <td>Clothing</td>\n",
       "    </tr>\n",
       "    <tr>\n",
       "      <th>2</th>\n",
       "      <td>2</td>\n",
       "      <td>9660</td>\n",
       "      <td>2022-07-25</td>\n",
       "      <td>197.50</td>\n",
       "      <td>Electronics</td>\n",
       "    </tr>\n",
       "    <tr>\n",
       "      <th>3</th>\n",
       "      <td>2</td>\n",
       "      <td>2998</td>\n",
       "      <td>2022-01-25</td>\n",
       "      <td>101.31</td>\n",
       "      <td>Furniture</td>\n",
       "    </tr>\n",
       "    <tr>\n",
       "      <th>4</th>\n",
       "      <td>2</td>\n",
       "      <td>1228</td>\n",
       "      <td>2022-07-24</td>\n",
       "      <td>397.37</td>\n",
       "      <td>Clothing</td>\n",
       "    </tr>\n",
       "  </tbody>\n",
       "</table>\n",
       "</div>"
      ],
      "text/plain": [
       "   CustomerID  TransactionID TransactionDate  AmountSpent ProductCategory\n",
       "0           1           7194      2022-03-27       416.50     Electronics\n",
       "1           2           7250      2022-08-08        54.96        Clothing\n",
       "2           2           9660      2022-07-25       197.50     Electronics\n",
       "3           2           2998      2022-01-25       101.31       Furniture\n",
       "4           2           1228      2022-07-24       397.37        Clothing"
      ]
     },
     "execution_count": 3,
     "metadata": {},
     "output_type": "execute_result"
    }
   ],
   "source": [
    "df_transaction_history = pd.read_excel(\"../raw_data/Customer_Churn_Data_Large.xlsx\", sheet_name='Transaction_History')\n",
    "df_transaction_history.head()"
   ]
  },
  {
   "cell_type": "code",
   "execution_count": 4,
   "id": "cd38a5cf",
   "metadata": {},
   "outputs": [
    {
     "name": "stdout",
     "output_type": "stream",
     "text": [
      "<class 'pandas.core.frame.DataFrame'>\n",
      "RangeIndex: 5054 entries, 0 to 5053\n",
      "Data columns (total 5 columns):\n",
      " #   Column           Non-Null Count  Dtype         \n",
      "---  ------           --------------  -----         \n",
      " 0   CustomerID       5054 non-null   int64         \n",
      " 1   TransactionID    5054 non-null   int64         \n",
      " 2   TransactionDate  5054 non-null   datetime64[ns]\n",
      " 3   AmountSpent      5054 non-null   float64       \n",
      " 4   ProductCategory  5054 non-null   object        \n",
      "dtypes: datetime64[ns](1), float64(1), int64(2), object(1)\n",
      "memory usage: 197.6+ KB\n"
     ]
    }
   ],
   "source": [
    "df_transaction_history.info()"
   ]
  },
  {
   "cell_type": "markdown",
   "id": "add93fad",
   "metadata": {},
   "source": [
    "The dataset is clean without any null values.  \n",
    "There are multiple transaction histories for a given customer, so feature engineering is required to aggregate multiple histories and create relevant features."
   ]
  },
  {
   "cell_type": "code",
   "execution_count": 5,
   "id": "bfc3185d",
   "metadata": {},
   "outputs": [
    {
     "data": {
      "text/plain": [
       "np.int64(0)"
      ]
     },
     "execution_count": 5,
     "metadata": {},
     "output_type": "execute_result"
    }
   ],
   "source": [
    "df_transaction_history.duplicated().sum()\n",
    "# checking for duplicates\n",
    "# there are no duplicates in the dataset"
   ]
  },
  {
   "cell_type": "code",
   "execution_count": 6,
   "id": "de231f39",
   "metadata": {},
   "outputs": [
    {
     "data": {
      "text/html": [
       "<div>\n",
       "<style scoped>\n",
       "    .dataframe tbody tr th:only-of-type {\n",
       "        vertical-align: middle;\n",
       "    }\n",
       "\n",
       "    .dataframe tbody tr th {\n",
       "        vertical-align: top;\n",
       "    }\n",
       "\n",
       "    .dataframe thead th {\n",
       "        text-align: right;\n",
       "    }\n",
       "</style>\n",
       "<table border=\"1\" class=\"dataframe\">\n",
       "  <thead>\n",
       "    <tr style=\"text-align: right;\">\n",
       "      <th></th>\n",
       "      <th>count</th>\n",
       "      <th>unique</th>\n",
       "      <th>top</th>\n",
       "      <th>freq</th>\n",
       "      <th>mean</th>\n",
       "      <th>std</th>\n",
       "      <th>min</th>\n",
       "      <th>25%</th>\n",
       "      <th>50%</th>\n",
       "      <th>75%</th>\n",
       "      <th>max</th>\n",
       "    </tr>\n",
       "  </thead>\n",
       "  <tbody>\n",
       "    <tr>\n",
       "      <th>AmountSpent</th>\n",
       "      <td>5054.0</td>\n",
       "      <td>NaN</td>\n",
       "      <td>NaN</td>\n",
       "      <td>NaN</td>\n",
       "      <td>250.707351</td>\n",
       "      <td>142.250838</td>\n",
       "      <td>5.18</td>\n",
       "      <td>127.105</td>\n",
       "      <td>250.525</td>\n",
       "      <td>373.4125</td>\n",
       "      <td>499.86</td>\n",
       "    </tr>\n",
       "    <tr>\n",
       "      <th>ProductCategory</th>\n",
       "      <td>5054</td>\n",
       "      <td>5</td>\n",
       "      <td>Books</td>\n",
       "      <td>1041</td>\n",
       "      <td>NaN</td>\n",
       "      <td>NaN</td>\n",
       "      <td>NaN</td>\n",
       "      <td>NaN</td>\n",
       "      <td>NaN</td>\n",
       "      <td>NaN</td>\n",
       "      <td>NaN</td>\n",
       "    </tr>\n",
       "  </tbody>\n",
       "</table>\n",
       "</div>"
      ],
      "text/plain": [
       "                  count unique    top  freq        mean         std   min  \\\n",
       "AmountSpent      5054.0    NaN    NaN   NaN  250.707351  142.250838  5.18   \n",
       "ProductCategory    5054      5  Books  1041         NaN         NaN   NaN   \n",
       "\n",
       "                     25%      50%       75%     max  \n",
       "AmountSpent      127.105  250.525  373.4125  499.86  \n",
       "ProductCategory      NaN      NaN       NaN     NaN  "
      ]
     },
     "execution_count": 6,
     "metadata": {},
     "output_type": "execute_result"
    }
   ],
   "source": [
    "df_transaction_history[['AmountSpent', 'ProductCategory']].describe(include='all').T\n",
    "# the features for which summary statistics are relevant are AmountSpent and ProductCategory\n",
    "# descriptive statistics of the dataset"
   ]
  },
  {
   "cell_type": "markdown",
   "id": "de47ecd3",
   "metadata": {},
   "source": [
    "The amount spent ranges from 5 to 499 and is uniformly distributed.\n",
    "The Product category is also uniformly distributed."
   ]
  },
  {
   "cell_type": "markdown",
   "id": "dcb88c70",
   "metadata": {},
   "source": [
    "TransactionID is a redundant column. It represents an id to refer to the transaction which is irrelevant to customer churn, so it can be dropped. "
   ]
  },
  {
   "cell_type": "code",
   "execution_count": 7,
   "id": "9be75fb4",
   "metadata": {},
   "outputs": [],
   "source": [
    "df_transaction_history.drop(columns=['TransactionID'], inplace=True)\n",
    "# dropping TransactionID column as it is not relevant for analysis"
   ]
  },
  {
   "cell_type": "code",
   "execution_count": 8,
   "id": "3f6073da",
   "metadata": {},
   "outputs": [
    {
     "data": {
      "text/html": [
       "<div>\n",
       "<style scoped>\n",
       "    .dataframe tbody tr th:only-of-type {\n",
       "        vertical-align: middle;\n",
       "    }\n",
       "\n",
       "    .dataframe tbody tr th {\n",
       "        vertical-align: top;\n",
       "    }\n",
       "\n",
       "    .dataframe thead th {\n",
       "        text-align: right;\n",
       "    }\n",
       "</style>\n",
       "<table border=\"1\" class=\"dataframe\">\n",
       "  <thead>\n",
       "    <tr style=\"text-align: right;\">\n",
       "      <th></th>\n",
       "      <th>CustomerID</th>\n",
       "      <th>TransactionDate</th>\n",
       "      <th>AmountSpent</th>\n",
       "      <th>ProductCategory</th>\n",
       "    </tr>\n",
       "  </thead>\n",
       "  <tbody>\n",
       "    <tr>\n",
       "      <th>0</th>\n",
       "      <td>1</td>\n",
       "      <td>2022-03-27</td>\n",
       "      <td>416.50</td>\n",
       "      <td>Electronics</td>\n",
       "    </tr>\n",
       "    <tr>\n",
       "      <th>1</th>\n",
       "      <td>2</td>\n",
       "      <td>2022-08-08</td>\n",
       "      <td>54.96</td>\n",
       "      <td>Clothing</td>\n",
       "    </tr>\n",
       "    <tr>\n",
       "      <th>2</th>\n",
       "      <td>2</td>\n",
       "      <td>2022-07-25</td>\n",
       "      <td>197.50</td>\n",
       "      <td>Electronics</td>\n",
       "    </tr>\n",
       "    <tr>\n",
       "      <th>3</th>\n",
       "      <td>2</td>\n",
       "      <td>2022-01-25</td>\n",
       "      <td>101.31</td>\n",
       "      <td>Furniture</td>\n",
       "    </tr>\n",
       "    <tr>\n",
       "      <th>4</th>\n",
       "      <td>2</td>\n",
       "      <td>2022-07-24</td>\n",
       "      <td>397.37</td>\n",
       "      <td>Clothing</td>\n",
       "    </tr>\n",
       "  </tbody>\n",
       "</table>\n",
       "</div>"
      ],
      "text/plain": [
       "   CustomerID TransactionDate  AmountSpent ProductCategory\n",
       "0           1      2022-03-27       416.50     Electronics\n",
       "1           2      2022-08-08        54.96        Clothing\n",
       "2           2      2022-07-25       197.50     Electronics\n",
       "3           2      2022-01-25       101.31       Furniture\n",
       "4           2      2022-07-24       397.37        Clothing"
      ]
     },
     "execution_count": 8,
     "metadata": {},
     "output_type": "execute_result"
    }
   ],
   "source": [
    "df_transaction_history.head()"
   ]
  },
  {
   "cell_type": "code",
   "execution_count": 9,
   "id": "f87f301f",
   "metadata": {},
   "outputs": [
    {
     "data": {
      "text/plain": [
       "<Axes: xlabel='TransactionDate', ylabel='Count'>"
      ]
     },
     "execution_count": 9,
     "metadata": {},
     "output_type": "execute_result"
    },
    {
     "data": {
      "image/png": "[encoded data removed]",
      "text/plain": [
       "<Figure size 1000x500 with 1 Axes>"
      ]
     },
     "metadata": {},
     "output_type": "display_data"
    }
   ],
   "source": [
    "# plotting the TransactionDate column\n",
    "sns.histplot(df_transaction_history['TransactionDate'], binwidth=5, kde=True)"
   ]
  },
  {
   "cell_type": "code",
   "execution_count": 10,
   "id": "87a08a51",
   "metadata": {},
   "outputs": [
    {
     "data": {
      "text/plain": [
       "<Axes: xlabel='AmountSpent', ylabel='Count'>"
      ]
     },
     "execution_count": 10,
     "metadata": {},
     "output_type": "execute_result"
    },
    {
     "data": {
      "image/png": "[encoded data removed]",
      "text/plain": [
       "<Figure size 1000x500 with 1 Axes>"
      ]
     },
     "metadata": {},
     "output_type": "display_data"
    }
   ],
   "source": [
    "# plotting AmountSpent column\n",
    "sns.histplot(df_transaction_history['AmountSpent'], binwidth=5, kde=True)"
   ]
  },
  {
   "cell_type": "markdown",
   "id": "800f32df",
   "metadata": {},
   "source": [
    "The Customer transactions and Amount spent are roughly uniformly distributed. "
   ]
  },
  {
   "cell_type": "code",
   "execution_count": 11,
   "id": "d788f95d",
   "metadata": {},
   "outputs": [
    {
     "data": {
      "text/plain": [
       "<Axes: xlabel='ProductCategory', ylabel='count'>"
      ]
     },
     "execution_count": 11,
     "metadata": {},
     "output_type": "execute_result"
    },
    {
     "data": {
      "image/png": "[encoded data removed]",
      "text/plain": [
       "<Figure size 1000x500 with 1 Axes>"
      ]
     },
     "metadata": {},
     "output_type": "display_data"
    }
   ],
   "source": [
    "# plotting ProductCategory column\n",
    "sns.countplot(df_transaction_history, x='ProductCategory')\n",
    "# this plot shows the number of transactions in each product category"
   ]
  },
  {
   "cell_type": "code",
   "execution_count": 12,
   "id": "08185511",
   "metadata": {},
   "outputs": [
    {
     "data": {
      "text/plain": [
       "<Axes: xlabel='ProductCategory', ylabel='AmountSpent'>"
      ]
     },
     "execution_count": 12,
     "metadata": {},
     "output_type": "execute_result"
    },
    {
     "data": {
      "image/png": "[encoded data removed]",
      "text/plain": [
       "<Figure size 1000x500 with 1 Axes>"
      ]
     },
     "metadata": {},
     "output_type": "display_data"
    }
   ],
   "source": [
    "# mean amount spent in each product category\n",
    "sns.barplot(df_transaction_history, x='ProductCategory', y='AmountSpent', estimator='mean')\n",
    "# this plot shows the mean amount spent in each product category"
   ]
  },
  {
   "cell_type": "code",
   "execution_count": 13,
   "id": "a1849959",
   "metadata": {},
   "outputs": [
    {
     "data": {
      "text/html": [
       "<div>\n",
       "<style scoped>\n",
       "    .dataframe tbody tr th:only-of-type {\n",
       "        vertical-align: middle;\n",
       "    }\n",
       "\n",
       "    .dataframe tbody tr th {\n",
       "        vertical-align: top;\n",
       "    }\n",
       "\n",
       "    .dataframe thead th {\n",
       "        text-align: right;\n",
       "    }\n",
       "</style>\n",
       "<table border=\"1\" class=\"dataframe\">\n",
       "  <thead>\n",
       "    <tr style=\"text-align: right;\">\n",
       "      <th></th>\n",
       "      <th>CustomerID</th>\n",
       "      <th>TotalAmountSpent</th>\n",
       "    </tr>\n",
       "  </thead>\n",
       "  <tbody>\n",
       "    <tr>\n",
       "      <th>0</th>\n",
       "      <td>1</td>\n",
       "      <td>416.50</td>\n",
       "    </tr>\n",
       "    <tr>\n",
       "      <th>1</th>\n",
       "      <td>2</td>\n",
       "      <td>1547.42</td>\n",
       "    </tr>\n",
       "    <tr>\n",
       "      <th>2</th>\n",
       "      <td>3</td>\n",
       "      <td>1702.98</td>\n",
       "    </tr>\n",
       "    <tr>\n",
       "      <th>3</th>\n",
       "      <td>4</td>\n",
       "      <td>917.29</td>\n",
       "    </tr>\n",
       "    <tr>\n",
       "      <th>4</th>\n",
       "      <td>5</td>\n",
       "      <td>2001.49</td>\n",
       "    </tr>\n",
       "    <tr>\n",
       "      <th>...</th>\n",
       "      <td>...</td>\n",
       "      <td>...</td>\n",
       "    </tr>\n",
       "    <tr>\n",
       "      <th>995</th>\n",
       "      <td>996</td>\n",
       "      <td>227.25</td>\n",
       "    </tr>\n",
       "    <tr>\n",
       "      <th>996</th>\n",
       "      <td>997</td>\n",
       "      <td>419.82</td>\n",
       "    </tr>\n",
       "    <tr>\n",
       "      <th>997</th>\n",
       "      <td>998</td>\n",
       "      <td>252.15</td>\n",
       "    </tr>\n",
       "    <tr>\n",
       "      <th>998</th>\n",
       "      <td>999</td>\n",
       "      <td>2393.26</td>\n",
       "    </tr>\n",
       "    <tr>\n",
       "      <th>999</th>\n",
       "      <td>1000</td>\n",
       "      <td>1670.79</td>\n",
       "    </tr>\n",
       "  </tbody>\n",
       "</table>\n",
       "<p>1000 rows × 2 columns</p>\n",
       "</div>"
      ],
      "text/plain": [
       "     CustomerID  TotalAmountSpent\n",
       "0             1            416.50\n",
       "1             2           1547.42\n",
       "2             3           1702.98\n",
       "3             4            917.29\n",
       "4             5           2001.49\n",
       "..          ...               ...\n",
       "995         996            227.25\n",
       "996         997            419.82\n",
       "997         998            252.15\n",
       "998         999           2393.26\n",
       "999        1000           1670.79\n",
       "\n",
       "[1000 rows x 2 columns]"
      ]
     },
     "execution_count": 13,
     "metadata": {},
     "output_type": "execute_result"
    }
   ],
   "source": [
    "df_transaction_history_agg = df_transaction_history.groupby('CustomerID', as_index=False).agg(\n",
    "    {'AmountSpent': 'sum'}).rename(\n",
    "    columns={'AmountSpent': 'TotalAmountSpent'})\n",
    "# this shows the total amount spent for each customer\n",
    "\n",
    "df_transaction_history_agg"
   ]
  },
  {
   "cell_type": "code",
   "execution_count": null,
   "id": "f8e00863",
   "metadata": {},
   "outputs": [
    {
     "data": {
      "text/html": [
       "<div>\n",
       "<style scoped>\n",
       "    .dataframe tbody tr th:only-of-type {\n",
       "        vertical-align: middle;\n",
       "    }\n",
       "\n",
       "    .dataframe tbody tr th {\n",
       "        vertical-align: top;\n",
       "    }\n",
       "\n",
       "    .dataframe thead th {\n",
       "        text-align: right;\n",
       "    }\n",
       "</style>\n",
       "<table border=\"1\" class=\"dataframe\">\n",
       "  <thead>\n",
       "    <tr style=\"text-align: right;\">\n",
       "      <th></th>\n",
       "      <th>CustomerID</th>\n",
       "      <th>TransactionDate</th>\n",
       "      <th>AmountSpent</th>\n",
       "      <th>ProductCategory</th>\n",
       "      <th>Days_since_transaction</th>\n",
       "    </tr>\n",
       "  </thead>\n",
       "  <tbody>\n",
       "    <tr>\n",
       "      <th>0</th>\n",
       "      <td>1</td>\n",
       "      <td>2022-03-27</td>\n",
       "      <td>416.50</td>\n",
       "      <td>Electronics</td>\n",
       "      <td>279</td>\n",
       "    </tr>\n",
       "    <tr>\n",
       "      <th>1</th>\n",
       "      <td>2</td>\n",
       "      <td>2022-08-08</td>\n",
       "      <td>54.96</td>\n",
       "      <td>Clothing</td>\n",
       "      <td>145</td>\n",
       "    </tr>\n",
       "    <tr>\n",
       "      <th>2</th>\n",
       "      <td>2</td>\n",
       "      <td>2022-07-25</td>\n",
       "      <td>197.50</td>\n",
       "      <td>Electronics</td>\n",
       "      <td>159</td>\n",
       "    </tr>\n",
       "    <tr>\n",
       "      <th>3</th>\n",
       "      <td>2</td>\n",
       "      <td>2022-01-25</td>\n",
       "      <td>101.31</td>\n",
       "      <td>Furniture</td>\n",
       "      <td>340</td>\n",
       "    </tr>\n",
       "    <tr>\n",
       "      <th>4</th>\n",
       "      <td>2</td>\n",
       "      <td>2022-07-24</td>\n",
       "      <td>397.37</td>\n",
       "      <td>Clothing</td>\n",
       "      <td>160</td>\n",
       "    </tr>\n",
       "    <tr>\n",
       "      <th>...</th>\n",
       "      <td>...</td>\n",
       "      <td>...</td>\n",
       "      <td>...</td>\n",
       "      <td>...</td>\n",
       "      <td>...</td>\n",
       "    </tr>\n",
       "    <tr>\n",
       "      <th>5049</th>\n",
       "      <td>1000</td>\n",
       "      <td>2022-09-08</td>\n",
       "      <td>232.06</td>\n",
       "      <td>Groceries</td>\n",
       "      <td>114</td>\n",
       "    </tr>\n",
       "    <tr>\n",
       "      <th>5050</th>\n",
       "      <td>1000</td>\n",
       "      <td>2022-12-13</td>\n",
       "      <td>324.98</td>\n",
       "      <td>Books</td>\n",
       "      <td>18</td>\n",
       "    </tr>\n",
       "    <tr>\n",
       "      <th>5051</th>\n",
       "      <td>1000</td>\n",
       "      <td>2022-06-15</td>\n",
       "      <td>375.34</td>\n",
       "      <td>Groceries</td>\n",
       "      <td>199</td>\n",
       "    </tr>\n",
       "    <tr>\n",
       "      <th>5052</th>\n",
       "      <td>1000</td>\n",
       "      <td>2022-04-08</td>\n",
       "      <td>166.73</td>\n",
       "      <td>Books</td>\n",
       "      <td>267</td>\n",
       "    </tr>\n",
       "    <tr>\n",
       "      <th>5053</th>\n",
       "      <td>1000</td>\n",
       "      <td>2022-11-23</td>\n",
       "      <td>93.73</td>\n",
       "      <td>Furniture</td>\n",
       "      <td>38</td>\n",
       "    </tr>\n",
       "  </tbody>\n",
       "</table>\n",
       "<p>5054 rows × 5 columns</p>\n",
       "</div>"
      ],
      "text/plain": [
       "      CustomerID TransactionDate  AmountSpent ProductCategory  \\\n",
       "0              1      2022-03-27       416.50     Electronics   \n",
       "1              2      2022-08-08        54.96        Clothing   \n",
       "2              2      2022-07-25       197.50     Electronics   \n",
       "3              2      2022-01-25       101.31       Furniture   \n",
       "4              2      2022-07-24       397.37        Clothing   \n",
       "...          ...             ...          ...             ...   \n",
       "5049        1000      2022-09-08       232.06       Groceries   \n",
       "5050        1000      2022-12-13       324.98           Books   \n",
       "5051        1000      2022-06-15       375.34       Groceries   \n",
       "5052        1000      2022-04-08       166.73           Books   \n",
       "5053        1000      2022-11-23        93.73       Furniture   \n",
       "\n",
       "      Days_since_transaction  \n",
       "0                        279  \n",
       "1                        145  \n",
       "2                        159  \n",
       "3                        340  \n",
       "4                        160  \n",
       "...                      ...  \n",
       "5049                     114  \n",
       "5050                      18  \n",
       "5051                     199  \n",
       "5052                     267  \n",
       "5053                      38  \n",
       "\n",
       "[5054 rows x 5 columns]"
      ]
     },
     "execution_count": 15,
     "metadata": {},
     "output_type": "execute_result"
    }
   ],
   "source": [
    "# finding number of days from earliest transaction date and latest transaction date to the most recent transaction date\n",
    "df_transaction_history['Days_since_transaction'] = (df_transaction_history['TransactionDate'].max()-df_transaction_history['TransactionDate']).dt.days\n",
    "df_transaction_history"
   ]
  },
  {
   "cell_type": "code",
   "execution_count": 16,
   "id": "5f91b0a4",
   "metadata": {},
   "outputs": [
    {
     "data": {
      "text/html": [
       "<div>\n",
       "<style scoped>\n",
       "    .dataframe tbody tr th:only-of-type {\n",
       "        vertical-align: middle;\n",
       "    }\n",
       "\n",
       "    .dataframe tbody tr th {\n",
       "        vertical-align: top;\n",
       "    }\n",
       "\n",
       "    .dataframe thead th {\n",
       "        text-align: right;\n",
       "    }\n",
       "</style>\n",
       "<table border=\"1\" class=\"dataframe\">\n",
       "  <thead>\n",
       "    <tr style=\"text-align: right;\">\n",
       "      <th></th>\n",
       "      <th>CustomerID</th>\n",
       "      <th>TotalAmountSpent</th>\n",
       "      <th>Days_since_first_transaction</th>\n",
       "      <th>Days_since_last_transaction</th>\n",
       "    </tr>\n",
       "  </thead>\n",
       "  <tbody>\n",
       "    <tr>\n",
       "      <th>0</th>\n",
       "      <td>1</td>\n",
       "      <td>416.50</td>\n",
       "      <td>279</td>\n",
       "      <td>279</td>\n",
       "    </tr>\n",
       "    <tr>\n",
       "      <th>1</th>\n",
       "      <td>2</td>\n",
       "      <td>1547.42</td>\n",
       "      <td>42</td>\n",
       "      <td>356</td>\n",
       "    </tr>\n",
       "    <tr>\n",
       "      <th>2</th>\n",
       "      <td>3</td>\n",
       "      <td>1702.98</td>\n",
       "      <td>84</td>\n",
       "      <td>323</td>\n",
       "    </tr>\n",
       "    <tr>\n",
       "      <th>3</th>\n",
       "      <td>4</td>\n",
       "      <td>917.29</td>\n",
       "      <td>4</td>\n",
       "      <td>223</td>\n",
       "    </tr>\n",
       "    <tr>\n",
       "      <th>4</th>\n",
       "      <td>5</td>\n",
       "      <td>2001.49</td>\n",
       "      <td>10</td>\n",
       "      <td>313</td>\n",
       "    </tr>\n",
       "    <tr>\n",
       "      <th>...</th>\n",
       "      <td>...</td>\n",
       "      <td>...</td>\n",
       "      <td>...</td>\n",
       "      <td>...</td>\n",
       "    </tr>\n",
       "    <tr>\n",
       "      <th>995</th>\n",
       "      <td>996</td>\n",
       "      <td>227.25</td>\n",
       "      <td>160</td>\n",
       "      <td>160</td>\n",
       "    </tr>\n",
       "    <tr>\n",
       "      <th>996</th>\n",
       "      <td>997</td>\n",
       "      <td>419.82</td>\n",
       "      <td>67</td>\n",
       "      <td>147</td>\n",
       "    </tr>\n",
       "    <tr>\n",
       "      <th>997</th>\n",
       "      <td>998</td>\n",
       "      <td>252.15</td>\n",
       "      <td>104</td>\n",
       "      <td>104</td>\n",
       "    </tr>\n",
       "    <tr>\n",
       "      <th>998</th>\n",
       "      <td>999</td>\n",
       "      <td>2393.26</td>\n",
       "      <td>24</td>\n",
       "      <td>345</td>\n",
       "    </tr>\n",
       "    <tr>\n",
       "      <th>999</th>\n",
       "      <td>1000</td>\n",
       "      <td>1670.79</td>\n",
       "      <td>18</td>\n",
       "      <td>267</td>\n",
       "    </tr>\n",
       "  </tbody>\n",
       "</table>\n",
       "<p>1000 rows × 4 columns</p>\n",
       "</div>"
      ],
      "text/plain": [
       "     CustomerID  TotalAmountSpent  Days_since_first_transaction  \\\n",
       "0             1            416.50                           279   \n",
       "1             2           1547.42                            42   \n",
       "2             3           1702.98                            84   \n",
       "3             4            917.29                             4   \n",
       "4             5           2001.49                            10   \n",
       "..          ...               ...                           ...   \n",
       "995         996            227.25                           160   \n",
       "996         997            419.82                            67   \n",
       "997         998            252.15                           104   \n",
       "998         999           2393.26                            24   \n",
       "999        1000           1670.79                            18   \n",
       "\n",
       "     Days_since_last_transaction  \n",
       "0                            279  \n",
       "1                            356  \n",
       "2                            323  \n",
       "3                            223  \n",
       "4                            313  \n",
       "..                           ...  \n",
       "995                          160  \n",
       "996                          147  \n",
       "997                          104  \n",
       "998                          345  \n",
       "999                          267  \n",
       "\n",
       "[1000 rows x 4 columns]"
      ]
     },
     "execution_count": 16,
     "metadata": {},
     "output_type": "execute_result"
    }
   ],
   "source": [
    "# adding columns days since first transaction and days since last transaction to the aggregated dataframe\n",
    "df_days = df_transaction_history.groupby('CustomerID', as_index=False)['Days_since_transaction'].agg(['min', 'max'])\n",
    "df_days.rename(columns={'min': 'Days_since_first_transaction', 'max': 'Days_since_last_transaction'}, inplace=True)\n",
    "\n",
    "df_transaction_history_agg = df_transaction_history_agg.merge(df_days, on='CustomerID', how='left')\n",
    "# merging the aggregated dataframe with the days dataframe on CustomerID\n",
    "\n",
    "df_transaction_history_agg"
   ]
  },
  {
   "cell_type": "code",
   "execution_count": 17,
   "id": "c4a7805b",
   "metadata": {},
   "outputs": [
    {
     "data": {
      "text/html": [
       "<div>\n",
       "<style scoped>\n",
       "    .dataframe tbody tr th:only-of-type {\n",
       "        vertical-align: middle;\n",
       "    }\n",
       "\n",
       "    .dataframe tbody tr th {\n",
       "        vertical-align: top;\n",
       "    }\n",
       "\n",
       "    .dataframe thead th {\n",
       "        text-align: right;\n",
       "    }\n",
       "</style>\n",
       "<table border=\"1\" class=\"dataframe\">\n",
       "  <thead>\n",
       "    <tr style=\"text-align: right;\">\n",
       "      <th></th>\n",
       "      <th>CustomerID</th>\n",
       "      <th>Books</th>\n",
       "      <th>Clothing</th>\n",
       "      <th>Electronics</th>\n",
       "      <th>Furniture</th>\n",
       "      <th>Groceries</th>\n",
       "    </tr>\n",
       "  </thead>\n",
       "  <tbody>\n",
       "    <tr>\n",
       "      <th>0</th>\n",
       "      <td>1</td>\n",
       "      <td>0</td>\n",
       "      <td>0</td>\n",
       "      <td>1</td>\n",
       "      <td>0</td>\n",
       "      <td>0</td>\n",
       "    </tr>\n",
       "    <tr>\n",
       "      <th>1</th>\n",
       "      <td>2</td>\n",
       "      <td>0</td>\n",
       "      <td>2</td>\n",
       "      <td>3</td>\n",
       "      <td>1</td>\n",
       "      <td>1</td>\n",
       "    </tr>\n",
       "    <tr>\n",
       "      <th>2</th>\n",
       "      <td>3</td>\n",
       "      <td>1</td>\n",
       "      <td>1</td>\n",
       "      <td>0</td>\n",
       "      <td>2</td>\n",
       "      <td>2</td>\n",
       "    </tr>\n",
       "    <tr>\n",
       "      <th>3</th>\n",
       "      <td>4</td>\n",
       "      <td>0</td>\n",
       "      <td>1</td>\n",
       "      <td>2</td>\n",
       "      <td>1</td>\n",
       "      <td>1</td>\n",
       "    </tr>\n",
       "    <tr>\n",
       "      <th>4</th>\n",
       "      <td>5</td>\n",
       "      <td>0</td>\n",
       "      <td>0</td>\n",
       "      <td>3</td>\n",
       "      <td>2</td>\n",
       "      <td>3</td>\n",
       "    </tr>\n",
       "  </tbody>\n",
       "</table>\n",
       "</div>"
      ],
      "text/plain": [
       "   CustomerID  Books  Clothing  Electronics  Furniture  Groceries\n",
       "0           1      0         0            1          0          0\n",
       "1           2      0         2            3          1          1\n",
       "2           3      1         1            0          2          2\n",
       "3           4      0         1            2          1          1\n",
       "4           5      0         0            3          2          3"
      ]
     },
     "execution_count": 17,
     "metadata": {},
     "output_type": "execute_result"
    }
   ],
   "source": [
    "# creating the counts of each product category for each customer\n",
    "product_category_df = df_transaction_history.groupby(['CustomerID', 'ProductCategory']).size().unstack(fill_value=0).reset_index().rename_axis(None, axis=1)\n",
    "product_category_df.head()"
   ]
  },
  {
   "cell_type": "code",
   "execution_count": 18,
   "id": "7b7927aa",
   "metadata": {},
   "outputs": [
    {
     "data": {
      "text/html": [
       "<div>\n",
       "<style scoped>\n",
       "    .dataframe tbody tr th:only-of-type {\n",
       "        vertical-align: middle;\n",
       "    }\n",
       "\n",
       "    .dataframe tbody tr th {\n",
       "        vertical-align: top;\n",
       "    }\n",
       "\n",
       "    .dataframe thead th {\n",
       "        text-align: right;\n",
       "    }\n",
       "</style>\n",
       "<table border=\"1\" class=\"dataframe\">\n",
       "  <thead>\n",
       "    <tr style=\"text-align: right;\">\n",
       "      <th></th>\n",
       "      <th>CustomerID</th>\n",
       "      <th>TotalAmountSpent</th>\n",
       "      <th>Days_since_first_transaction</th>\n",
       "      <th>Days_since_last_transaction</th>\n",
       "      <th>Books</th>\n",
       "      <th>Clothing</th>\n",
       "      <th>Electronics</th>\n",
       "      <th>Furniture</th>\n",
       "      <th>Groceries</th>\n",
       "    </tr>\n",
       "  </thead>\n",
       "  <tbody>\n",
       "    <tr>\n",
       "      <th>0</th>\n",
       "      <td>1</td>\n",
       "      <td>416.50</td>\n",
       "      <td>279</td>\n",
       "      <td>279</td>\n",
       "      <td>0</td>\n",
       "      <td>0</td>\n",
       "      <td>1</td>\n",
       "      <td>0</td>\n",
       "      <td>0</td>\n",
       "    </tr>\n",
       "    <tr>\n",
       "      <th>1</th>\n",
       "      <td>2</td>\n",
       "      <td>1547.42</td>\n",
       "      <td>42</td>\n",
       "      <td>356</td>\n",
       "      <td>0</td>\n",
       "      <td>2</td>\n",
       "      <td>3</td>\n",
       "      <td>1</td>\n",
       "      <td>1</td>\n",
       "    </tr>\n",
       "    <tr>\n",
       "      <th>2</th>\n",
       "      <td>3</td>\n",
       "      <td>1702.98</td>\n",
       "      <td>84</td>\n",
       "      <td>323</td>\n",
       "      <td>1</td>\n",
       "      <td>1</td>\n",
       "      <td>0</td>\n",
       "      <td>2</td>\n",
       "      <td>2</td>\n",
       "    </tr>\n",
       "    <tr>\n",
       "      <th>3</th>\n",
       "      <td>4</td>\n",
       "      <td>917.29</td>\n",
       "      <td>4</td>\n",
       "      <td>223</td>\n",
       "      <td>0</td>\n",
       "      <td>1</td>\n",
       "      <td>2</td>\n",
       "      <td>1</td>\n",
       "      <td>1</td>\n",
       "    </tr>\n",
       "    <tr>\n",
       "      <th>4</th>\n",
       "      <td>5</td>\n",
       "      <td>2001.49</td>\n",
       "      <td>10</td>\n",
       "      <td>313</td>\n",
       "      <td>0</td>\n",
       "      <td>0</td>\n",
       "      <td>3</td>\n",
       "      <td>2</td>\n",
       "      <td>3</td>\n",
       "    </tr>\n",
       "  </tbody>\n",
       "</table>\n",
       "</div>"
      ],
      "text/plain": [
       "   CustomerID  TotalAmountSpent  Days_since_first_transaction  \\\n",
       "0           1            416.50                           279   \n",
       "1           2           1547.42                            42   \n",
       "2           3           1702.98                            84   \n",
       "3           4            917.29                             4   \n",
       "4           5           2001.49                            10   \n",
       "\n",
       "   Days_since_last_transaction  Books  Clothing  Electronics  Furniture  \\\n",
       "0                          279      0         0            1          0   \n",
       "1                          356      0         2            3          1   \n",
       "2                          323      1         1            0          2   \n",
       "3                          223      0         1            2          1   \n",
       "4                          313      0         0            3          2   \n",
       "\n",
       "   Groceries  \n",
       "0          0  \n",
       "1          1  \n",
       "2          2  \n",
       "3          1  \n",
       "4          3  "
      ]
     },
     "execution_count": 18,
     "metadata": {},
     "output_type": "execute_result"
    }
   ],
   "source": [
    "# merging the product category dataframe with the aggregated dataframe on CustomerID\n",
    "df_transaction_history_agg = df_transaction_history_agg.merge(product_category_df, on='CustomerID', how='left')\n",
    "df_transaction_history_agg.head()"
   ]
  },
  {
   "cell_type": "markdown",
   "id": "b6091a72",
   "metadata": {},
   "source": [
    "The categorical features has been converted to numeric values."
   ]
  },
  {
   "cell_type": "code",
   "execution_count": 19,
   "id": "1cc34253",
   "metadata": {},
   "outputs": [],
   "source": [
    "df_transaction_history_agg.to_csv(\"../processed_data/Transaction_History.csv\", index=False)"
   ]
  }
 ],
 "metadata": {
  "kernelspec": {
   "display_name": "pythimoon",
   "language": "python",
   "name": "python3"
  },
  "language_info": {
   "codemirror_mode": {
    "name": "ipython",
    "version": 3
   },
   "file_extension": ".py",
   "mimetype": "text/x-python",
   "name": "python",
   "nbconvert_exporter": "python",
   "pygments_lexer": "ipython3",
   "version": "3.13.1"
  }
 },
 "nbformat": 4,
 "nbformat_minor": 5
}
